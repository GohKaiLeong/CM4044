{
 "cells": [
  {
   "cell_type": "markdown",
   "metadata": {},
   "source": [
    "## RDKit Exercise\n",
    "\n",
    "In this exercise, you will practice the basic use of RDKit in reading molecule, generating SMILE string, calculating fingerprint and molecule descriptors.\n",
    "\n",
    "The molecule is saved in \"molecule.mol\"."
   ]
  },
  {
   "cell_type": "markdown",
   "metadata": {},
   "source": [
    "### 1. Load molecule from file\n",
    "\n",
    "In this step, load the basic RDKit modules -- `Chem` and `IPythonConsole` to create molecule object from file and draw the molecule.\n",
    "\n",
    "Solution:"
   ]
  },
  {
   "cell_type": "code",
   "execution_count": 1,
   "metadata": {},
   "outputs": [
    {
     "data": {
      "image/png": "[encoded data removed]",
      "text/plain": [
       "<rdkit.Chem.rdchem.Mol at 0x20d66d33e40>"
      ]
     },
     "execution_count": 1,
     "metadata": {},
     "output_type": "execute_result"
    }
   ],
   "source": [
    "from rdkit import Chem\n",
    "from rdkit.Chem.Draw import IPythonConsole\n",
    "mol = Chem.MolFromMolFile('molecule.mol')\n",
    "mol"
   ]
  },
  {
   "cell_type": "markdown",
   "metadata": {},
   "source": [
    "### 2. Generate SMILES for molecule\n",
    "\n",
    "In this step, generate SMILES for the molecule object based on the requirement to label chiral center or not in the SMILES.\n",
    "\n",
    "(Hint: Function to be used: `Chem.MolToSmiles` with `isomericSmiles = True or False`.)\n",
    "\n",
    "Solution:"
   ]
  },
  {
   "cell_type": "code",
   "execution_count": 2,
   "metadata": {},
   "outputs": [
    {
     "name": "stdout",
     "output_type": "stream",
     "text": [
      "Label chiral:\n",
      "C[C@H]1CC=CC[C@@H]1C(=O)N(C)C\n",
      "\n",
      "No labelling chiral:\n",
      "CC1CC=CCC1C(=O)N(C)C\n"
     ]
    }
   ],
   "source": [
    "# Label chiral centre\n",
    "print('Label chiral:')\n",
    "print(Chem.MolToSmiles(mol, isomericSmiles=True))\n",
    "print()\n",
    "\n",
    "# No labelling chiral centre\n",
    "print('No labelling chiral:')\n",
    "print(Chem.MolToSmiles(mol, isomericSmiles=False))"
   ]
  },
  {
   "cell_type": "markdown",
   "metadata": {},
   "source": [
    "### 3. Atoms, bonds and rings\n",
    "\n",
    "As the molecule's information is loaded in the memory (the molecule object), you can access atoms, bonds and rings of the molecule. Atoms, bonds and rings are the objects to be retrieved from the molecule object. They have their own attributes and we can use get methods to retrieve these information.\n",
    "\n",
    "1. Print the atomic index, atomic number and hybrridization by looping over all atoms in the molecule.\n",
    "(Hint: retrieve atoms from `GetAtoms()` method of the molecule object, then access the atom attributes by `GetIdx()`, `GetAtomicNum()`, `GetHybridization()` of an atom object.)\n",
    "\n",
    "2. Print bond index and type by looping over all bonds in the molecule.\n",
    "(Hint: retrieve all bonds from the molecule object by `GetBonds()`, then access the bond attributes by `GetIdx()` and `GetBondType()` of a bond object.)\n",
    "\n",
    "3. Print atoms index and bonds index in the ring substructure of the molecule.\n",
    "(Hint: retrieve ring information from the molecule object by `GetRingInfo()`, then access the ring attributes by `AtomRings()` and `BondRings()`.)\n",
    "\n",
    "Solution:\n"
   ]
  },
  {
   "cell_type": "code",
   "execution_count": 3,
   "metadata": {},
   "outputs": [
    {
     "name": "stdout",
     "output_type": "stream",
     "text": [
      "Part 1\n",
      "\n",
      "Atom index: 0\n",
      "Atomic number: 6\n",
      "Hybridization: SP2\n",
      "\n",
      "Atom index: 1\n",
      "Atomic number: 6\n",
      "Hybridization: SP3\n",
      "\n",
      "Atom index: 2\n",
      "Atomic number: 6\n",
      "Hybridization: SP3\n",
      "\n",
      "Atom index: 3\n",
      "Atomic number: 6\n",
      "Hybridization: SP3\n",
      "\n",
      "Atom index: 4\n",
      "Atomic number: 6\n",
      "Hybridization: SP3\n",
      "\n",
      "Atom index: 5\n",
      "Atomic number: 6\n",
      "Hybridization: SP2\n",
      "\n",
      "Atom index: 6\n",
      "Atomic number: 6\n",
      "Hybridization: SP3\n",
      "\n",
      "Atom index: 7\n",
      "Atomic number: 6\n",
      "Hybridization: SP2\n",
      "\n",
      "Atom index: 8\n",
      "Atomic number: 8\n",
      "Hybridization: SP2\n",
      "\n",
      "Atom index: 9\n",
      "Atomic number: 7\n",
      "Hybridization: SP2\n",
      "\n",
      "Atom index: 10\n",
      "Atomic number: 6\n",
      "Hybridization: SP3\n",
      "\n",
      "Atom index: 11\n",
      "Atomic number: 6\n",
      "Hybridization: SP3\n",
      "\n"
     ]
    }
   ],
   "source": [
    "print('Part 1')\n",
    "print()\n",
    "for atom in mol.GetAtoms():\n",
    "    print('Atom index:', atom.GetIdx())\n",
    "    print('Atomic number:', atom.GetAtomicNum())\n",
    "    print('Hybridization:', atom.GetHybridization())\n",
    "    print()"
   ]
  },
  {
   "cell_type": "code",
   "execution_count": 4,
   "metadata": {},
   "outputs": [
    {
     "name": "stdout",
     "output_type": "stream",
     "text": [
      "Part 2\n",
      "\n",
      "Bond index: 0\n",
      "Type: SINGLE\n",
      "\n",
      "Bond index: 1\n",
      "Type: DOUBLE\n",
      "\n",
      "Bond index: 2\n",
      "Type: SINGLE\n",
      "\n",
      "Bond index: 3\n",
      "Type: SINGLE\n",
      "\n",
      "Bond index: 4\n",
      "Type: SINGLE\n",
      "\n",
      "Bond index: 5\n",
      "Type: SINGLE\n",
      "\n",
      "Bond index: 6\n",
      "Type: SINGLE\n",
      "\n",
      "Bond index: 7\n",
      "Type: SINGLE\n",
      "\n",
      "Bond index: 8\n",
      "Type: DOUBLE\n",
      "\n",
      "Bond index: 9\n",
      "Type: SINGLE\n",
      "\n",
      "Bond index: 10\n",
      "Type: SINGLE\n",
      "\n",
      "Bond index: 11\n",
      "Type: SINGLE\n",
      "\n"
     ]
    }
   ],
   "source": [
    "print('Part 2')\n",
    "print()\n",
    "for bond in mol.GetBonds():\n",
    "    print('Bond index:', bond.GetIdx())\n",
    "    print('Type:', bond.GetBondType())\n",
    "    print()"
   ]
  },
  {
   "cell_type": "code",
   "execution_count": 5,
   "metadata": {},
   "outputs": [
    {
     "name": "stdout",
     "output_type": "stream",
     "text": [
      "Part 3\n",
      "\n",
      "Atom index: ((0, 5, 4, 3, 2, 1),)\n",
      "Bond index: ((1, 7, 5, 3, 2, 0),)\n"
     ]
    }
   ],
   "source": [
    "print('Part 3')\n",
    "print()\n",
    "\n",
    "ring = mol.GetRingInfo()\n",
    "print('Atom index:', ring.AtomRings())\n",
    "print('Bond index:', ring.BondRings())"
   ]
  },
  {
   "cell_type": "markdown",
   "metadata": {},
   "source": [
    "### 4. Draw molecule with highlighted substructure\n",
    "\n",
    "Draw the molecule with the highlight on the amide group, carboxyl group and chiral carbon.\n",
    "\n",
    "Steps: \n",
    "1. Select atoms and bonds from the molecule for highlighing, store their index in list.\n",
    "Use the `MolFromSmarts` to create the substructure pattern, get the atom list to match with the pattern,\n",
    "select the beginning and ending atoms of the selected bonds, `GetBeginAtomIdx()` and `GetEndAtomIdex()`.\n",
    "2. Draw molecule in SVG format\n",
    "Use `rdMolDraw2D.PrepareAndDrawMolecule()` method and pass in the information of drawer, molecule, the selected atoms and bonds. \n",
    "3. Display molecule\n",
    "\n",
    "Solution:\n"
   ]
  },
  {
   "cell_type": "code",
   "execution_count": 6,
   "metadata": {},
   "outputs": [
    {
     "data": {
      "image/png": "[encoded data removed]",
      "text/plain": [
       "<rdkit.Chem.rdchem.Mol at 0x20d66d33e40>"
      ]
     },
     "execution_count": 6,
     "metadata": {},
     "output_type": "execute_result"
    }
   ],
   "source": [
    "# Original: 'C[C@H]1CC=CC[C@@H]1C(=O)N(C)C'\n",
    "from rdkit.Chem.Draw import rdMolDraw2D\n",
    "patt = Chem.MolFromSmarts('[C@H][C@@H]C(=O)N(C)C')\n",
    "hit_ats = list(mol.GetSubstructMatch(patt))\n",
    "hit_bonds = []\n",
    "for bond in patt.GetBonds():\n",
    "    aid1 = hit_ats[bond.GetBeginAtomIdx()]\n",
    "    aid2 = hit_ats[bond.GetEndAtomIdx()]\n",
    "    hit_bonds.append(mol.GetBondBetweenAtoms(aid1,aid2).GetIdx())\n",
    "\n",
    "d = rdMolDraw2D.MolDraw2DSVG(500, 500) # SVG format\n",
    "rdMolDraw2D.PrepareAndDrawMolecule(d, mol, highlightAtoms=hit_ats, highlightBonds=hit_bonds)\n",
    "mol"
   ]
  },
  {
   "cell_type": "markdown",
   "metadata": {},
   "source": [
    "### 5. Calculate Fingerprints\n",
    "\n",
    "Practice the three ways to calculate the Morgan fingerprint of the given molecule. Print the outputs to check if the three fingerprints are the same. \n",
    "\n",
    "Hint:\n",
    "\n",
    "1. Use `AllChem.GetMorganFingerprintAsBitVect()` with the options: useChirality=True, radius=2, nBits=124\n",
    "2. Use `rdFingerprintGenerator.GetMorganGenerator()` with the options: includeChirality=True, radius=2, fpSize=124, useCountSimulation=False\n",
    "3. Use `rdMolDescriptors.GetMorganFingerprintAsBitVect()` with the options: useChirality=True, radius=2, nBits=124\n",
    "\n",
    "\n",
    "Solution:\n"
   ]
  },
  {
   "cell_type": "code",
   "execution_count": 7,
   "metadata": {},
   "outputs": [
    {
     "name": "stdout",
     "output_type": "stream",
     "text": [
      "AllChem Morgan fingerprint:\n",
      "[0 0 0 0 0 1 0 0 1 0 1 0 1 0 0 0 0 1 0 0 0 0 0 0 0 0 0 0 0 0 1 0 0 0 0 0 1\n",
      " 0 1 0 0 0 0 1 0 1 1 0 0 0 0 0 1 1 0 0 0 0 0 1 0 0 0 0 0 0 0 0 0 0 0 1 0 1\n",
      " 1 0 0 0 0 0 0 0 0 0 0 0 0 0 0 0 0 0 0 0 1 0 0 1 0 0 0 0 0 0 0 0 0 0 0 0 0\n",
      " 1 0 0 0 0 0 0 0 0 0 1 0 1]\n",
      "\n",
      "rdFingerprintGenerator.GetMorganGenerator:\n",
      "[0 0 0 0 0 1 0 0 1 0 1 0 1 0 0 0 0 1 0 0 0 0 0 0 0 0 0 0 0 0 1 0 0 0 0 0 1\n",
      " 0 1 0 0 0 0 1 0 1 1 0 0 0 0 0 1 1 0 0 0 0 0 1 0 0 0 0 0 0 0 0 0 0 0 1 0 1\n",
      " 1 0 0 0 0 0 0 0 0 0 0 0 0 0 0 0 0 0 0 0 1 0 0 1 0 0 0 0 0 0 0 0 0 0 0 0 0\n",
      " 1 0 0 0 0 0 0 0 0 0 1 0 1]\n",
      "\n",
      "Chem.rdMolDescriptors Morgan fingerprint:\n",
      "[0 0 0 0 0 1 0 0 1 0 1 0 1 0 0 0 0 1 0 0 0 0 0 0 0 0 0 0 0 0 1 0 0 0 0 0 1\n",
      " 0 1 0 0 0 0 1 0 1 1 0 0 0 0 0 1 1 0 0 0 0 0 1 0 0 0 0 0 0 0 0 0 0 0 1 0 1\n",
      " 1 0 0 0 0 0 0 0 0 0 0 0 0 0 0 0 0 0 0 0 1 0 0 1 0 0 0 0 0 0 0 0 0 0 0 0 0\n",
      " 1 0 0 0 0 0 0 0 0 0 1 0 1]\n"
     ]
    }
   ],
   "source": [
    "from rdkit.Chem import AllChem\n",
    "from rdkit.Chem import rdFingerprintGenerator\n",
    "import numpy as np\n",
    "\n",
    "bv = AllChem.GetMorganFingerprintAsBitVect(mol,useChirality=True, radius=2, nBits=124)\n",
    "print('AllChem Morgan fingerprint:')\n",
    "print(np.array(bv))\n",
    "print()\n",
    "\n",
    "morgan_fp_gen = rdFingerprintGenerator.GetMorganGenerator(includeChirality=True, radius=2, fpSize=124, useCountSimulation=False)\n",
    "fp2 = morgan_fp_gen.GetFingerprint(mol)\n",
    "vec2 = np.array(fp2)\n",
    "print('rdFingerprintGenerator.GetMorganGenerator:')\n",
    "print(vec2)\n",
    "print()\n",
    "\n",
    "bv2 = Chem.rdMolDescriptors.GetMorganFingerprintAsBitVect(mol,useChirality=True, radius=2, nBits=124)\n",
    "print('Chem.rdMolDescriptors Morgan fingerprint:')\n",
    "print(np.array(bv2))"
   ]
  },
  {
   "cell_type": "markdown",
   "metadata": {},
   "source": [
    "### 6. Calculate molecular descriptors with RDKit\n",
    "\n",
    "### 6.1 \n",
    "\n",
    "Practice the use of the `Descriptors` moldule to calculate these properties: TPSA, ExactMolWt, NumValenceElectrons, FpDensityMorgan3, NumHeteroatoms. The document about this common `Descriptors` is [here](https://www.rdkit.org/docs/source/rdkit.Chem.Descriptors.html)\n",
    "\n",
    "Solution:"
   ]
  },
  {
   "cell_type": "code",
   "execution_count": 8,
   "metadata": {},
   "outputs": [
    {
     "name": "stdout",
     "output_type": "stream",
     "text": [
      "TPSA: 20.310000000000002\n",
      "ExactMolWt: 167.131014164\n",
      "NumValenceElectrons: 68\n",
      "FpDensityMorgan3: 2.4166666666666665\n",
      "NumHeteroatoms: 2\n"
     ]
    }
   ],
   "source": [
    "from rdkit.Chem import Descriptors\n",
    "print('TPSA:', Descriptors.TPSA(mol))\n",
    "print('ExactMolWt:', Descriptors.ExactMolWt(mol))\n",
    "print('NumValenceElectrons:', Descriptors.NumValenceElectrons(mol))\n",
    "print('FpDensityMorgan3:', Descriptors.FpDensityMorgan3(mol))\n",
    "print('NumHeteroatoms:', Descriptors.NumHeteroatoms(mol))"
   ]
  },
  {
   "cell_type": "markdown",
   "metadata": {},
   "source": [
    "### 6.2 \n",
    "\n",
    "A more general and wide collection to calculate molecular descriptors is the module `rdkit.Chem.rdMolDescriptors`. It has more than 200 methods to calculate 200 chemical descriptors and their 2D and 3D correlations. Also, it has the methods to calculate the molecule fingerprints available in the RDKit package!\n",
    "\n",
    "Practice the use of the `rdMolDescriptors` moldule to calculate these properties: Asphericity, NumRings, NumSaturatedRings, NumAmideBonds, and NumHeteroatoms. The document about this common `rdMolDescriptors` is [here](https://www.rdkit.org/docs/source/rdkit.Chem.rdMolDescriptors.html)\n",
    "\n",
    "Solution:"
   ]
  },
  {
   "cell_type": "code",
   "execution_count": 9,
   "metadata": {},
   "outputs": [
    {
     "name": "stdout",
     "output_type": "stream",
     "text": [
      "Asphericity: 0.33650624153540726\n",
      "NumRings: 1\n",
      "NumSaturatedRings: 0\n",
      "NumAmideBonds: 1\n",
      "NumHeteroatoms: 2\n"
     ]
    }
   ],
   "source": [
    "from rdkit.Chem import rdMolDescriptors\n",
    "print('Asphericity:',rdMolDescriptors.CalcAsphericity(mol))\n",
    "print('NumRings:', rdMolDescriptors.CalcNumRings(mol))\n",
    "print('NumSaturatedRings:', rdMolDescriptors.CalcNumSaturatedRings(mol))\n",
    "print('NumAmideBonds:', rdMolDescriptors.CalcNumAmideBonds(mol))\n",
    "print('NumHeteroatoms:', rdMolDescriptors.CalcNumHeteroatoms(mol))"
   ]
  },
  {
   "cell_type": "markdown",
   "metadata": {},
   "source": [
    "### 6.3\n",
    "\n",
    "In the `rdkit.ML.Descriptors.MoleculeDescriptors`, there is a molecule descriptor calculator, which calculate all available descriptors in RDKit and save them in a tuple. \n",
    "\n",
    "Practice the use of the `MoleculeDescriptors.MolecularDescriptorCalculator()` method to calculate all descriptors.  The document about this `rdkit.ML.Descriptors.MoleculeDescriptors` is [here](https://www.rdkit.org/docs/source/rdkit.ML.Descriptors.MoleculeDescriptors.html)\n",
    "\n",
    "Hint: To use `MolecularDescriptorCalculator()`,\n",
    "\n",
    "1. initilise the calculator by calling `MoleculeDescriptors.MolecularDescriptorCalculator()` and pass in descriptor name list.\n",
    "2. the descriptor name list is stored in the attribute `rdkit.Chem.Descriptors._descList`. You can use all descriptor names or part of it depending on pratical need.\n",
    "3. call `CalcDescriptors()` method and pass in molecule object. The calculated results is stored in a tuple.\n",
    "\n",
    "Solution:"
   ]
  },
  {
   "cell_type": "code",
   "execution_count": 10,
   "metadata": {},
   "outputs": [
    {
     "data": {
      "text/plain": [
       "(11.600324074074074,\n",
       " 0.21296296296296258,\n",
       " 11.600324074074074,\n",
       " 0.21296296296296258,\n",
       " 0.5440026400555292,\n",
       " 167.25199999999998,\n",
       " 150.11599999999999,\n",
       " 167.131014164,\n",
       " 68,\n",
       " 0,\n",
       " 0.22525586113091928,\n",
       " -0.34856453570450996,\n",
       " 0.34856453570450996,\n",
       " 0.22525586113091928,\n",
       " 1.3333333333333333,\n",
       " 1.9166666666666667,\n",
       " 2.4166666666666665,\n",
       " 2.6149895698346155,\n",
       " 196.01526027982132,\n",
       " 9.137828201504693,\n",
       " 8.07907652509542,\n",
       " 8.07907652509542,\n",
       " 5.625897657686229,\n",
       " 4.487843366288384,\n",
       " 4.487843366288384,\n",
       " 3.7592508570576726,\n",
       " 3.7592508570576726,\n",
       " 2.5094083179654123,\n",
       " 2.5094083179654123,\n",
       " 1.6261399757201858,\n",
       " 1.6261399757201858,\n",
       " -0.79,\n",
       " 479.0008718287047,\n",
       " 9.29920606601249,\n",
       " 3.7435753105439047,\n",
       " 1.8720871092969003,\n",
       " 74.24965164193266,\n",
       " 4.899909730850478,\n",
       " 0.0,\n",
       " 0.0,\n",
       " 5.907179729351506,\n",
       " 0.0,\n",
       " 0.0,\n",
       " 4.794537184071822,\n",
       " 0.0,\n",
       " 0.0,\n",
       " 0.0,\n",
       " 19.075777413358388,\n",
       " 18.75954929201341,\n",
       " 20.013250011515773,\n",
       " 0.0,\n",
       " 4.794537184071822,\n",
       " 5.907179729351506,\n",
       " 0.0,\n",
       " 4.899909730850478,\n",
       " 11.835812092322787,\n",
       " 19.765380445542643,\n",
       " 14.09534396535438,\n",
       " 12.152040213667762,\n",
       " 0.0,\n",
       " 0.0,\n",
       " 0.0,\n",
       " 0.0,\n",
       " 0.0,\n",
       " 0.0,\n",
       " 24.902433425556364,\n",
       " 4.794537184071822,\n",
       " 11.835812092322787,\n",
       " 19.765380445542643,\n",
       " 12.152040213667762,\n",
       " 0.0,\n",
       " 0.0,\n",
       " 0.0,\n",
       " 20.310000000000002,\n",
       " 0.0,\n",
       " 4.794537184071822,\n",
       " 0.0,\n",
       " 11.8250857755129,\n",
       " 5.917906046161393,\n",
       " 12.841643245852019,\n",
       " 0.0,\n",
       " 4.899909730850478,\n",
       " 14.09534396535438,\n",
       " 19.075777413358388,\n",
       " 0.0,\n",
       " 0.0,\n",
       " 0.0,\n",
       " 13.295092592592592,\n",
       " 0.0,\n",
       " 0.0,\n",
       " 0.9877314814814815,\n",
       " 0.0,\n",
       " 6.24861111111111,\n",
       " 2.1483796296296296,\n",
       " 3.6535185185185184,\n",
       " 0.7,\n",
       " 12,\n",
       " 0,\n",
       " 2,\n",
       " 1,\n",
       " 0,\n",
       " 1,\n",
       " 0,\n",
       " 0,\n",
       " 0,\n",
       " 1,\n",
       " 0,\n",
       " 2,\n",
       " 1,\n",
       " 0,\n",
       " 0,\n",
       " 0,\n",
       " 1,\n",
       " 1.6769,\n",
       " 49.72200000000004,\n",
       " 0,\n",
       " 0,\n",
       " 0,\n",
       " 0,\n",
       " 0,\n",
       " 0,\n",
       " 0,\n",
       " 0,\n",
       " 0,\n",
       " 0,\n",
       " 1,\n",
       " 1,\n",
       " 0,\n",
       " 0,\n",
       " 0,\n",
       " 1,\n",
       " 0,\n",
       " 0,\n",
       " 0,\n",
       " 0,\n",
       " 0,\n",
       " 0,\n",
       " 0,\n",
       " 0,\n",
       " 0,\n",
       " 0,\n",
       " 2,\n",
       " 1,\n",
       " 0,\n",
       " 0,\n",
       " 0,\n",
       " 0,\n",
       " 0,\n",
       " 0,\n",
       " 0,\n",
       " 0,\n",
       " 0,\n",
       " 0,\n",
       " 0,\n",
       " 0,\n",
       " 0,\n",
       " 0,\n",
       " 0,\n",
       " 0,\n",
       " 0,\n",
       " 0,\n",
       " 0,\n",
       " 0,\n",
       " 0,\n",
       " 0,\n",
       " 0,\n",
       " 0,\n",
       " 0,\n",
       " 0,\n",
       " 0,\n",
       " 0,\n",
       " 0,\n",
       " 0,\n",
       " 0,\n",
       " 0,\n",
       " 0,\n",
       " 0,\n",
       " 0,\n",
       " 0,\n",
       " 0,\n",
       " 0,\n",
       " 0,\n",
       " 0,\n",
       " 0,\n",
       " 0,\n",
       " 0,\n",
       " 0,\n",
       " 0,\n",
       " 0,\n",
       " 0,\n",
       " 0,\n",
       " 0,\n",
       " 0,\n",
       " 0,\n",
       " 0,\n",
       " 0,\n",
       " 0,\n",
       " 0,\n",
       " 0,\n",
       " 0)"
      ]
     },
     "execution_count": 10,
     "metadata": {},
     "output_type": "execute_result"
    }
   ],
   "source": [
    "from rdkit.ML.Descriptors import MoleculeDescriptors\n",
    "\n",
    "# step 1 and 2\n",
    "calc = MoleculeDescriptors.MolecularDescriptorCalculator([x[0] for x in Descriptors._descList])\n",
    "\n",
    "# step 3\n",
    "descriptors200 = calc.CalcDescriptors(mol)\n",
    "\n",
    "descriptors200"
   ]
  }
 ],
 "metadata": {
  "kernelspec": {
   "display_name": "Python 3",
   "language": "python",
   "name": "python3"
  },
  "language_info": {
   "codemirror_mode": {
    "name": "ipython",
    "version": 3
   },
   "file_extension": ".py",
   "mimetype": "text/x-python",
   "name": "python",
   "nbconvert_exporter": "python",
   "pygments_lexer": "ipython3",
   "version": "3.8.3"
  }
 },
 "nbformat": 4,
 "nbformat_minor": 4
}
